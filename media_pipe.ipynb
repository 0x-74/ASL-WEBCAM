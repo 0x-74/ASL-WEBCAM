{
 "cells": [
  {
   "cell_type": "code",
   "execution_count": 24,
   "metadata": {},
   "outputs": [
    {
     "name": "stdout",
     "output_type": "stream",
     "text": [
      "Defaulting to user installation because normal site-packages is not writeable\n",
      "Requirement already satisfied: mediapipe in /Users/ezk/Library/Python/3.9/lib/python/site-packages (0.10.14)\n",
      "Requirement already satisfied: matplotlib in /Users/ezk/Library/Python/3.9/lib/python/site-packages (from mediapipe) (3.9.1.post1)\n",
      "Requirement already satisfied: protobuf<5,>=4.25.3 in /Users/ezk/Library/Python/3.9/lib/python/site-packages (from mediapipe) (4.25.4)\n",
      "Requirement already satisfied: attrs>=19.1.0 in /Users/ezk/Library/Python/3.9/lib/python/site-packages (from mediapipe) (24.2.0)\n",
      "Requirement already satisfied: opencv-contrib-python in /Users/ezk/Library/Python/3.9/lib/python/site-packages (from mediapipe) (4.10.0.84)\n",
      "Requirement already satisfied: jaxlib in /Users/ezk/Library/Python/3.9/lib/python/site-packages (from mediapipe) (0.4.30)\n",
      "Requirement already satisfied: flatbuffers>=2.0 in /Users/ezk/Library/Python/3.9/lib/python/site-packages (from mediapipe) (24.3.25)\n",
      "Requirement already satisfied: sounddevice>=0.4.4 in /Users/ezk/Library/Python/3.9/lib/python/site-packages (from mediapipe) (0.5.0)\n",
      "Requirement already satisfied: jax in /Users/ezk/Library/Python/3.9/lib/python/site-packages (from mediapipe) (0.4.30)\n",
      "Requirement already satisfied: numpy in /Users/ezk/Library/Python/3.9/lib/python/site-packages (from mediapipe) (1.26.4)\n",
      "Requirement already satisfied: absl-py in /Users/ezk/Library/Python/3.9/lib/python/site-packages (from mediapipe) (2.1.0)\n",
      "Requirement already satisfied: CFFI>=1.0 in /Users/ezk/Library/Python/3.9/lib/python/site-packages (from sounddevice>=0.4.4->mediapipe) (1.17.0)\n",
      "Requirement already satisfied: pycparser in /Users/ezk/Library/Python/3.9/lib/python/site-packages (from CFFI>=1.0->sounddevice>=0.4.4->mediapipe) (2.22)\n",
      "Requirement already satisfied: importlib-metadata>=4.6 in /Users/ezk/Library/Python/3.9/lib/python/site-packages (from jax->mediapipe) (8.2.0)\n",
      "Requirement already satisfied: scipy>=1.9 in /Users/ezk/Library/Python/3.9/lib/python/site-packages (from jax->mediapipe) (1.13.1)\n",
      "Requirement already satisfied: opt-einsum in /Users/ezk/Library/Python/3.9/lib/python/site-packages (from jax->mediapipe) (3.3.0)\n",
      "Requirement already satisfied: ml-dtypes>=0.2.0 in /Users/ezk/Library/Python/3.9/lib/python/site-packages (from jax->mediapipe) (0.4.0)\n",
      "Requirement already satisfied: zipp>=0.5 in /Users/ezk/Library/Python/3.9/lib/python/site-packages (from importlib-metadata>=4.6->jax->mediapipe) (3.19.2)\n",
      "Requirement already satisfied: pillow>=8 in /Users/ezk/Library/Python/3.9/lib/python/site-packages (from matplotlib->mediapipe) (10.4.0)\n",
      "Requirement already satisfied: pyparsing>=2.3.1 in /Users/ezk/Library/Python/3.9/lib/python/site-packages (from matplotlib->mediapipe) (3.1.2)\n",
      "Requirement already satisfied: cycler>=0.10 in /Users/ezk/Library/Python/3.9/lib/python/site-packages (from matplotlib->mediapipe) (0.12.1)\n",
      "Requirement already satisfied: packaging>=20.0 in /Users/ezk/Library/Python/3.9/lib/python/site-packages (from matplotlib->mediapipe) (24.1)\n",
      "Requirement already satisfied: importlib-resources>=3.2.0 in /Users/ezk/Library/Python/3.9/lib/python/site-packages (from matplotlib->mediapipe) (6.4.0)\n",
      "Requirement already satisfied: fonttools>=4.22.0 in /Users/ezk/Library/Python/3.9/lib/python/site-packages (from matplotlib->mediapipe) (4.53.1)\n",
      "Requirement already satisfied: contourpy>=1.0.1 in /Users/ezk/Library/Python/3.9/lib/python/site-packages (from matplotlib->mediapipe) (1.2.1)\n",
      "Requirement already satisfied: kiwisolver>=1.3.1 in /Users/ezk/Library/Python/3.9/lib/python/site-packages (from matplotlib->mediapipe) (1.4.5)\n",
      "Requirement already satisfied: python-dateutil>=2.7 in /Users/ezk/Library/Python/3.9/lib/python/site-packages (from matplotlib->mediapipe) (2.9.0.post0)\n",
      "Requirement already satisfied: six>=1.5 in /Applications/Xcode.app/Contents/Developer/Library/Frameworks/Python3.framework/Versions/3.9/lib/python3.9/site-packages (from python-dateutil>=2.7->matplotlib->mediapipe) (1.15.0)\n",
      "\u001b[33mWARNING: You are using pip version 21.2.4; however, version 24.2 is available.\n",
      "You should consider upgrading via the '/Applications/Xcode.app/Contents/Developer/usr/bin/python3 -m pip install --upgrade pip' command.\u001b[0m\n",
      "Note: you may need to restart the kernel to use updated packages.\n"
     ]
    }
   ],
   "source": [
    "%pip install mediapipe"
   ]
  },
  {
   "cell_type": "code",
   "execution_count": 2,
   "metadata": {},
   "outputs": [
    {
     "name": "stderr",
     "output_type": "stream",
     "text": [
      "/Users/ezk/Library/Python/3.9/lib/python/site-packages/urllib3/__init__.py:35: NotOpenSSLWarning: urllib3 v2 only supports OpenSSL 1.1.1+, currently the 'ssl' module is compiled with 'LibreSSL 2.8.3'. See: https://github.com/urllib3/urllib3/issues/3020\n",
      "  warnings.warn(\n"
     ]
    }
   ],
   "source": [
    "import mediapipe as mp\n",
    "import cv2\n",
    "import numpy as np\n",
    "import tensorflow as tf\n",
    "import os"
   ]
  },
  {
   "cell_type": "code",
   "execution_count": 4,
   "metadata": {},
   "outputs": [],
   "source": [
    "DATADIR = 'dataset_ISL'\n",
    "CATEGORIES = os.listdir(DATADIR)"
   ]
  },
  {
   "cell_type": "code",
   "execution_count": 5,
   "metadata": {},
   "outputs": [],
   "source": [
    "def __draw_label(img, text, pos, bg_color):\n",
    "   font_face = cv2.FONT_HERSHEY_SIMPLEX\n",
    "   scale = 1\n",
    "   color = (0, 255, 0)\n",
    "   thickness = cv2.FILLED\n",
    "   margin = 32\n",
    "   txt_size = cv2.getTextSize(text, font_face, scale, thickness)\n",
    "\n",
    "   end_x = pos[0] + txt_size[0][0] + margin\n",
    "   end_y = pos[1] - txt_size[0][1] - margin\n",
    "\n",
    "   cv2.rectangle(img, pos, (end_x, end_y), bg_color, thickness)\n",
    "   cv2.putText(img, text, tuple(x + 5 for x in pos), font_face, scale, color, 1, cv2.LINE_AA)"
   ]
  },
  {
   "cell_type": "code",
   "execution_count": 6,
   "metadata": {},
   "outputs": [],
   "source": [
    "model = tf.keras.models.load_model('models/LeNet5.keras')"
   ]
  },
  {
   "cell_type": "code",
   "execution_count": 9,
   "metadata": {},
   "outputs": [
    {
     "name": "stderr",
     "output_type": "stream",
     "text": [
      "I0000 00:00:1723639186.841289  375466 gl_context.cc:357] GL version: 2.1 (2.1 Metal - 88.1), renderer: Apple M2\n",
      "W0000 00:00:1723639186.858566  411544 inference_feedback_manager.cc:114] Feedback manager requires a model with a single signature inference. Disabling support for feedback tensors.\n",
      "W0000 00:00:1723639186.869716  411544 inference_feedback_manager.cc:114] Feedback manager requires a model with a single signature inference. Disabling support for feedback tensors.\n"
     ]
    }
   ],
   "source": [
    "mp_drawing = mp.solutions.drawing_utils\n",
    "mp_hands = mp.solutions.hands\n",
    "\n",
    "cap = cv2.VideoCapture(0)\n",
    "\n",
    "with mp_hands.Hands(min_detection_confidence=0.8, min_tracking_confidence=0.5) as hands:\n",
    "\n",
    "    while cap.isOpened():\n",
    "        ret, frame = cap.read()\n",
    "        if not ret:\n",
    "            print('Failed to grab frame')\n",
    "            break\n",
    "\n",
    "        
    "        image_rgb = cv2.cvtColor(frame, cv2.COLOR_BGR2RGB)\n",
    "\n",
    "        image_rgb.flags.writeable = False\n",
    "        results = hands.process(image_rgb)\n",
    "        image_rgb.flags.writeable = True\n",
    "\n",
    "        
    "        image_bgr = cv2.cvtColor(image_rgb, cv2.COLOR_RGB2BGR)\n",
    "\n",
    "        if results.multi_hand_landmarks:\n",
    "            for hand_landmarks in results.multi_hand_landmarks:\n",
    "                
    "                x_coords = [landmark.x for landmark in hand_landmarks.landmark]\n",
    "                y_coords = [landmark.y for landmark in hand_landmarks.landmark]\n",
    "\n",
    "                h, w, _ = image_bgr.shape\n",
    "                x_coords = [int(x * w) for x in x_coords]\n",
    "                y_coords = [int(y * h) for y in y_coords]\n",
    "\n",
    "                x_min = min(x_coords)\n",
    "                x_max = max(x_coords)\n",
    "                y_min = min(y_coords)\n",
    "                y_max = max(y_coords)\n",
    "\n",
    "                
    "                padding = 40  
    "\n",
    "                
    "                x_min = max(0, x_min - padding)\n",
    "                x_max = min(w, x_max + padding)\n",
    "                y_min = max(0, y_min - padding)\n",
    "                y_max = min(h, y_max + padding)\n",
    "\n",
    "                
    "                cropped_hand = image_bgr[y_min:y_max, x_min:x_max]\n",
    "\n",
    "                img = cv2.resize(cropped_hand,(32,32))\n",
    "                gray= cv2.cvtColor(img,cv2.COLOR_BGR2GRAY)\n",
    "                prediction = model(np.array(gray).reshape(-1,32,32,1))\n",
    "                cv2.rectangle(image_bgr, (x_min, y_min), (x_max, y_max), (0, 255, 0), 2)\n",
    "                __draw_label(image_bgr, 'Label: {}'.format(CATEGORIES[np.argmax(prediction)]), (20,20), (0,0,0))\n",
    "\n",
    "        cv2.imshow('Hand Tracking', image_bgr)\n",
    "\n",
    "        if cv2.waitKey(5) & 0xFF == ord('q'):\n",
    "            break\n",
    "\n",
    "cap.release()\n",
    "cv2.destroyAllWindows()"
   ]
  },
  {
   "cell_type": "code",
   "execution_count": null,
   "metadata": {},
   "outputs": [],
   "source": []
  }
 ],
 "metadata": {
  "kernelspec": {
   "display_name": "Python 3",
   "language": "python",
   "name": "python3"
  },
  "language_info": {
   "codemirror_mode": {
    "name": "ipython",
    "version": 3
   },
   "file_extension": ".py",
   "mimetype": "text/x-python",
   "name": "python",
   "nbconvert_exporter": "python",
   "pygments_lexer": "ipython3",
   "version": "3.9.6"
  }
 },
 "nbformat": 4,
 "nbformat_minor": 2
}
